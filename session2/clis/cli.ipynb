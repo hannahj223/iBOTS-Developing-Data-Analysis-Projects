{
 "cells": [
  {
   "cell_type": "code",
   "execution_count": 1,
   "metadata": {},
   "outputs": [
    {
     "name": "stdout",
     "output_type": "stream",
     "text": [
      " Volume in drive C is Boot\n",
      " Volume Serial Number is 2848-3436\n",
      "\n",
      " Directory of c:\\Users\\User\\Documents\\ibots-data-pipelines\\iBOTS-Developing-Data-Analysis-Projects\\session2\\clis\n",
      "\n",
      "26/02/2024  15:08    <DIR>          .\n",
      "26/02/2024  13:52    <DIR>          ..\n",
      "26/02/2024  15:09               535 cli.ipynb\n",
      "26/02/2024  13:52               300 greet_user.py\n",
      "26/02/2024  14:20               555 greet_user2.py\n",
      "26/02/2024  15:07             1,405 transform_array.py\n",
      "26/02/2024  14:59               449 two_numbers.py\n",
      "               5 File(s)          3,244 bytes\n",
      "               2 Dir(s)  164,805,689,344 bytes free\n"
     ]
    }
   ],
   "source": [
    "!dir"
   ]
  },
  {
   "cell_type": "code",
   "execution_count": 4,
   "metadata": {},
   "outputs": [
    {
     "name": "stdout",
     "output_type": "stream",
     "text": [
      "usage: greet_user.py [-h] name\n",
      "\n",
      "Greet the user\n",
      "\n",
      "positional arguments:\n",
      "  name        Name of the user\n",
      "\n",
      "options:\n",
      "  -h, --help  show this help message and exit\n"
     ]
    }
   ],
   "source": [
    "!python greet_user.py -h"
   ]
  }
 ],
 "metadata": {
  "kernelspec": {
   "display_name": "Python 3",
   "language": "python",
   "name": "python3"
  },
  "language_info": {
   "codemirror_mode": {
    "name": "ipython",
    "version": 3
   },
   "file_extension": ".py",
   "mimetype": "text/x-python",
   "name": "python",
   "nbconvert_exporter": "python",
   "pygments_lexer": "ipython3",
   "version": "3.11.8"
  }
 },
 "nbformat": 4,
 "nbformat_minor": 2
}
